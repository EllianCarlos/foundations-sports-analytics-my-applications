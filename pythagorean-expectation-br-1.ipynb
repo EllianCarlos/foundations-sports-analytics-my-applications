{
 "cells": [
  {
   "cell_type": "code",
   "execution_count": 73,
   "metadata": {
    "collapsed": true
   },
   "outputs": [
    {
     "data": {
      "text/plain": "True"
     },
     "execution_count": 73,
     "metadata": {},
     "output_type": "execute_result"
    }
   ],
   "source": [
    "import requests\n",
    "import os\n",
    "from dotenv import load_dotenv\n",
    "import pandas as pd\n",
    "import statsmodels.formula.api as smf\n",
    "import seaborn as sns\n",
    "\n",
    "load_dotenv()"
   ]
  },
  {
   "cell_type": "code",
   "execution_count": 74,
   "outputs": [],
   "source": [
    "API_KEY = os.getenv('API_KEY', -1)\n",
    "if API_KEY == -1:\n",
    "    raise('INVALID API KEY')\n",
    "response = requests.get('https://api.football-data.org/v2/competitions/BSA/standings', headers={\n",
    "    'X-Auth-Token': API_KEY,\n",
    "})"
   ],
   "metadata": {
    "collapsed": false,
    "pycharm": {
     "name": "#%%\n"
    }
   }
  },
  {
   "cell_type": "code",
   "execution_count": 75,
   "outputs": [],
   "source": [
    "response = response.json()"
   ],
   "metadata": {
    "collapsed": false,
    "pycharm": {
     "name": "#%%\n"
    }
   }
  },
  {
   "cell_type": "code",
   "execution_count": 76,
   "outputs": [],
   "source": [
    "table = response['standings'][0]['table']"
   ],
   "metadata": {
    "collapsed": false,
    "pycharm": {
     "name": "#%%\n"
    }
   }
  },
  {
   "cell_type": "code",
   "execution_count": 77,
   "outputs": [
    {
     "name": "stdout",
     "output_type": "stream",
     "text": [
      "The 1 team is CA Mineiro with 18 wins\n",
      "The 2 team is SE Palmeiras with 15 wins\n",
      "The 3 team is Fortaleza EC with 14 wins\n",
      "The 4 team is CR Flamengo with 14 wins\n",
      "The 5 team is RB Bragantino with 11 wins\n",
      "The 6 team is SC Internacional with 10 wins\n",
      "The 7 team is SC Corinthians Paulista with 10 wins\n",
      "The 8 team is Fluminense FC with 10 wins\n",
      "The 9 team is AC Goianiense with 9 wins\n",
      "The 10 team is América FC with 8 wins\n",
      "The 11 team is Cuiabá EC with 7 wins\n",
      "The 12 team is CA Paranaense with 10 wins\n",
      "The 13 team is São Paulo FC with 7 wins\n",
      "The 14 team is Ceará SC with 6 wins\n",
      "The 15 team is EC Bahia with 8 wins\n",
      "The 16 team is EC Juventude with 6 wins\n",
      "The 17 team is Santos FC with 6 wins\n",
      "The 18 team is SC Recife with 6 wins\n",
      "The 19 team is Grêmio FBPA with 7 wins\n",
      "The 20 team is Chapecoense AF with 1 wins\n"
     ]
    }
   ],
   "source": [
    "for placement in table:\n",
    "    print(\"The {0} team is {1} with {2} wins\".format(placement['position'], placement['team']['name'], placement['won']))"
   ],
   "metadata": {
    "collapsed": false,
    "pycharm": {
     "name": "#%%\n"
    }
   }
  },
  {
   "cell_type": "code",
   "execution_count": 78,
   "outputs": [],
   "source": [
    "df = pd.DataFrame(table)"
   ],
   "metadata": {
    "collapsed": false,
    "pycharm": {
     "name": "#%%\n"
    }
   }
  },
  {
   "cell_type": "code",
   "execution_count": 79,
   "outputs": [],
   "source": [
    "df['team'] = df['team'].apply(lambda x: x['name'])"
   ],
   "metadata": {
    "collapsed": false,
    "pycharm": {
     "name": "#%%\n"
    }
   }
  },
  {
   "cell_type": "code",
   "execution_count": 80,
   "outputs": [
    {
     "data": {
      "text/plain": "['position',\n 'team',\n 'playedGames',\n 'form',\n 'won',\n 'draw',\n 'lost',\n 'points',\n 'goalsFor',\n 'goalsAgainst',\n 'goalDifference']"
     },
     "execution_count": 80,
     "metadata": {},
     "output_type": "execute_result"
    }
   ],
   "source": [
    "df.columns.tolist()"
   ],
   "metadata": {
    "collapsed": false,
    "pycharm": {
     "name": "#%%\n"
    }
   }
  },
  {
   "cell_type": "code",
   "execution_count": 88,
   "outputs": [],
   "source": [
    "df['wpc'] = (df['won'] + df['draw']*0.5)/df['playedGames']\n",
    "df['pyth'] = df['goalsFor']**2/(df['goalsFor']**2 + df['goalsAgainst']**2)"
   ],
   "metadata": {
    "collapsed": false,
    "pycharm": {
     "name": "#%%\n"
    }
   }
  },
  {
   "cell_type": "code",
   "execution_count": 89,
   "outputs": [
    {
     "data": {
      "text/plain": "    position                     team  playedGames  form  won  draw  lost  \\\n0          1               CA Mineiro           27  None   18     5     4   \n1          2             SE Palmeiras           28  None   15     4     9   \n2          3             Fortaleza EC           28  None   14     6     8   \n3          4              CR Flamengo           25  None   14     4     7   \n4          5            RB Bragantino           28  None   11    13     4   \n5          6         SC Internacional           28  None   10    11     7   \n6          7  SC Corinthians Paulista           28  None   10    11     7   \n7          8            Fluminense FC           27  None   10     9     8   \n8          9            AC Goianiense           27  None    9    10     8   \n9         10               América FC           28  None    8    11     9   \n10        11                Cuiabá EC           28  None    7    14     7   \n11        12            CA Paranaense           27  None   10     4    13   \n12        13             São Paulo FC           28  None    7    13     8   \n13        14                 Ceará SC           27  None    6    14     7   \n14        15                 EC Bahia           27  None    8     7    12   \n15        16             EC Juventude           28  None    6    11    11   \n16        17                Santos FC           27  None    6    11    10   \n17        18                SC Recife           28  None    6     9    13   \n18        19              Grêmio FBPA           26  None    7     5    14   \n19        20           Chapecoense AF           28  None    1    10    17   \n\n    points  goalsFor  goalsAgainst  goalDifference       wpc      pyth  \n0       59        44            20              24  0.759259  0.828767  \n1       49        42            34               8  0.607143  0.604110  \n2       48        38            30               8  0.607143  0.616041  \n3       46        47            24              23  0.640000  0.793178  \n4       46        44            32              12  0.625000  0.654054  \n5       41        37            30               7  0.553571  0.603349  \n6       41        30            26               4  0.553571  0.571066  \n7       39        28            28               0  0.537037  0.500000  \n8       37        24            24               0  0.518519  0.500000  \n9       35        27            29              -2  0.482143  0.464331  \n10      35        27            28              -1  0.500000  0.481824  \n11      34        32            36              -4  0.444444  0.441379  \n12      34        22            27              -5  0.482143  0.399011  \n13      32        25            29              -4  0.481481  0.426330  \n14      31        31            38              -7  0.425926  0.399584  \n15      29        27            36              -9  0.410714  0.360000  \n16      29        23            34             -11  0.425926  0.313947  \n17      27        15            24              -9  0.375000  0.280899  \n18      26        23            32              -9  0.365385  0.340631  \n19      13        24            49             -25  0.214286  0.193483  ",
      "text/html": "<div>\n<style scoped>\n    .dataframe tbody tr th:only-of-type {\n        vertical-align: middle;\n    }\n\n    .dataframe tbody tr th {\n        vertical-align: top;\n    }\n\n    .dataframe thead th {\n        text-align: right;\n    }\n</style>\n<table border=\"1\" class=\"dataframe\">\n  <thead>\n    <tr style=\"text-align: right;\">\n      <th></th>\n      <th>position</th>\n      <th>team</th>\n      <th>playedGames</th>\n      <th>form</th>\n      <th>won</th>\n      <th>draw</th>\n      <th>lost</th>\n      <th>points</th>\n      <th>goalsFor</th>\n      <th>goalsAgainst</th>\n      <th>goalDifference</th>\n      <th>wpc</th>\n      <th>pyth</th>\n    </tr>\n  </thead>\n  <tbody>\n    <tr>\n      <th>0</th>\n      <td>1</td>\n      <td>CA Mineiro</td>\n      <td>27</td>\n      <td>None</td>\n      <td>18</td>\n      <td>5</td>\n      <td>4</td>\n      <td>59</td>\n      <td>44</td>\n      <td>20</td>\n      <td>24</td>\n      <td>0.759259</td>\n      <td>0.828767</td>\n    </tr>\n    <tr>\n      <th>1</th>\n      <td>2</td>\n      <td>SE Palmeiras</td>\n      <td>28</td>\n      <td>None</td>\n      <td>15</td>\n      <td>4</td>\n      <td>9</td>\n      <td>49</td>\n      <td>42</td>\n      <td>34</td>\n      <td>8</td>\n      <td>0.607143</td>\n      <td>0.604110</td>\n    </tr>\n    <tr>\n      <th>2</th>\n      <td>3</td>\n      <td>Fortaleza EC</td>\n      <td>28</td>\n      <td>None</td>\n      <td>14</td>\n      <td>6</td>\n      <td>8</td>\n      <td>48</td>\n      <td>38</td>\n      <td>30</td>\n      <td>8</td>\n      <td>0.607143</td>\n      <td>0.616041</td>\n    </tr>\n    <tr>\n      <th>3</th>\n      <td>4</td>\n      <td>CR Flamengo</td>\n      <td>25</td>\n      <td>None</td>\n      <td>14</td>\n      <td>4</td>\n      <td>7</td>\n      <td>46</td>\n      <td>47</td>\n      <td>24</td>\n      <td>23</td>\n      <td>0.640000</td>\n      <td>0.793178</td>\n    </tr>\n    <tr>\n      <th>4</th>\n      <td>5</td>\n      <td>RB Bragantino</td>\n      <td>28</td>\n      <td>None</td>\n      <td>11</td>\n      <td>13</td>\n      <td>4</td>\n      <td>46</td>\n      <td>44</td>\n      <td>32</td>\n      <td>12</td>\n      <td>0.625000</td>\n      <td>0.654054</td>\n    </tr>\n    <tr>\n      <th>5</th>\n      <td>6</td>\n      <td>SC Internacional</td>\n      <td>28</td>\n      <td>None</td>\n      <td>10</td>\n      <td>11</td>\n      <td>7</td>\n      <td>41</td>\n      <td>37</td>\n      <td>30</td>\n      <td>7</td>\n      <td>0.553571</td>\n      <td>0.603349</td>\n    </tr>\n    <tr>\n      <th>6</th>\n      <td>7</td>\n      <td>SC Corinthians Paulista</td>\n      <td>28</td>\n      <td>None</td>\n      <td>10</td>\n      <td>11</td>\n      <td>7</td>\n      <td>41</td>\n      <td>30</td>\n      <td>26</td>\n      <td>4</td>\n      <td>0.553571</td>\n      <td>0.571066</td>\n    </tr>\n    <tr>\n      <th>7</th>\n      <td>8</td>\n      <td>Fluminense FC</td>\n      <td>27</td>\n      <td>None</td>\n      <td>10</td>\n      <td>9</td>\n      <td>8</td>\n      <td>39</td>\n      <td>28</td>\n      <td>28</td>\n      <td>0</td>\n      <td>0.537037</td>\n      <td>0.500000</td>\n    </tr>\n    <tr>\n      <th>8</th>\n      <td>9</td>\n      <td>AC Goianiense</td>\n      <td>27</td>\n      <td>None</td>\n      <td>9</td>\n      <td>10</td>\n      <td>8</td>\n      <td>37</td>\n      <td>24</td>\n      <td>24</td>\n      <td>0</td>\n      <td>0.518519</td>\n      <td>0.500000</td>\n    </tr>\n    <tr>\n      <th>9</th>\n      <td>10</td>\n      <td>América FC</td>\n      <td>28</td>\n      <td>None</td>\n      <td>8</td>\n      <td>11</td>\n      <td>9</td>\n      <td>35</td>\n      <td>27</td>\n      <td>29</td>\n      <td>-2</td>\n      <td>0.482143</td>\n      <td>0.464331</td>\n    </tr>\n    <tr>\n      <th>10</th>\n      <td>11</td>\n      <td>Cuiabá EC</td>\n      <td>28</td>\n      <td>None</td>\n      <td>7</td>\n      <td>14</td>\n      <td>7</td>\n      <td>35</td>\n      <td>27</td>\n      <td>28</td>\n      <td>-1</td>\n      <td>0.500000</td>\n      <td>0.481824</td>\n    </tr>\n    <tr>\n      <th>11</th>\n      <td>12</td>\n      <td>CA Paranaense</td>\n      <td>27</td>\n      <td>None</td>\n      <td>10</td>\n      <td>4</td>\n      <td>13</td>\n      <td>34</td>\n      <td>32</td>\n      <td>36</td>\n      <td>-4</td>\n      <td>0.444444</td>\n      <td>0.441379</td>\n    </tr>\n    <tr>\n      <th>12</th>\n      <td>13</td>\n      <td>São Paulo FC</td>\n      <td>28</td>\n      <td>None</td>\n      <td>7</td>\n      <td>13</td>\n      <td>8</td>\n      <td>34</td>\n      <td>22</td>\n      <td>27</td>\n      <td>-5</td>\n      <td>0.482143</td>\n      <td>0.399011</td>\n    </tr>\n    <tr>\n      <th>13</th>\n      <td>14</td>\n      <td>Ceará SC</td>\n      <td>27</td>\n      <td>None</td>\n      <td>6</td>\n      <td>14</td>\n      <td>7</td>\n      <td>32</td>\n      <td>25</td>\n      <td>29</td>\n      <td>-4</td>\n      <td>0.481481</td>\n      <td>0.426330</td>\n    </tr>\n    <tr>\n      <th>14</th>\n      <td>15</td>\n      <td>EC Bahia</td>\n      <td>27</td>\n      <td>None</td>\n      <td>8</td>\n      <td>7</td>\n      <td>12</td>\n      <td>31</td>\n      <td>31</td>\n      <td>38</td>\n      <td>-7</td>\n      <td>0.425926</td>\n      <td>0.399584</td>\n    </tr>\n    <tr>\n      <th>15</th>\n      <td>16</td>\n      <td>EC Juventude</td>\n      <td>28</td>\n      <td>None</td>\n      <td>6</td>\n      <td>11</td>\n      <td>11</td>\n      <td>29</td>\n      <td>27</td>\n      <td>36</td>\n      <td>-9</td>\n      <td>0.410714</td>\n      <td>0.360000</td>\n    </tr>\n    <tr>\n      <th>16</th>\n      <td>17</td>\n      <td>Santos FC</td>\n      <td>27</td>\n      <td>None</td>\n      <td>6</td>\n      <td>11</td>\n      <td>10</td>\n      <td>29</td>\n      <td>23</td>\n      <td>34</td>\n      <td>-11</td>\n      <td>0.425926</td>\n      <td>0.313947</td>\n    </tr>\n    <tr>\n      <th>17</th>\n      <td>18</td>\n      <td>SC Recife</td>\n      <td>28</td>\n      <td>None</td>\n      <td>6</td>\n      <td>9</td>\n      <td>13</td>\n      <td>27</td>\n      <td>15</td>\n      <td>24</td>\n      <td>-9</td>\n      <td>0.375000</td>\n      <td>0.280899</td>\n    </tr>\n    <tr>\n      <th>18</th>\n      <td>19</td>\n      <td>Grêmio FBPA</td>\n      <td>26</td>\n      <td>None</td>\n      <td>7</td>\n      <td>5</td>\n      <td>14</td>\n      <td>26</td>\n      <td>23</td>\n      <td>32</td>\n      <td>-9</td>\n      <td>0.365385</td>\n      <td>0.340631</td>\n    </tr>\n    <tr>\n      <th>19</th>\n      <td>20</td>\n      <td>Chapecoense AF</td>\n      <td>28</td>\n      <td>None</td>\n      <td>1</td>\n      <td>10</td>\n      <td>17</td>\n      <td>13</td>\n      <td>24</td>\n      <td>49</td>\n      <td>-25</td>\n      <td>0.214286</td>\n      <td>0.193483</td>\n    </tr>\n  </tbody>\n</table>\n</div>"
     },
     "metadata": {},
     "output_type": "display_data"
    }
   ],
   "source": [
    "display(df)"
   ],
   "metadata": {
    "collapsed": false,
    "pycharm": {
     "name": "#%%\n"
    }
   }
  },
  {
   "cell_type": "code",
   "execution_count": 90,
   "outputs": [
    {
     "data": {
      "text/plain": "<seaborn.axisgrid.FacetGrid at 0x1fbbb6049a0>"
     },
     "execution_count": 90,
     "metadata": {},
     "output_type": "execute_result"
    },
    {
     "data": {
      "text/plain": "<Figure size 360x360 with 1 Axes>",
      "image/png": "[encoded data removed]"
     },
     "metadata": {
      "needs_background": "light"
     },
     "output_type": "display_data"
    }
   ],
   "source": [
    "sns.relplot(x=\"pyth\", y=\"wpc\", data =df)"
   ],
   "metadata": {
    "collapsed": false,
    "pycharm": {
     "name": "#%%\n"
    }
   }
  },
  {
   "cell_type": "code",
   "execution_count": 91,
   "outputs": [
    {
     "data": {
      "text/plain": "<class 'statsmodels.iolib.summary.Summary'>\n\"\"\"\n                            OLS Regression Results                            \n==============================================================================\nDep. Variable:                    wpc   R-squared:                       0.919\nModel:                            OLS   Adj. R-squared:                  0.915\nMethod:                 Least Squares   F-statistic:                     205.4\nDate:                Tue, 26 Oct 2021   Prob (F-statistic):           2.76e-11\nTime:                        01:12:26   Log-Likelihood:                 39.810\nNo. Observations:                  20   AIC:                            -75.62\nDf Residuals:                      18   BIC:                            -73.63\nDf Model:                           1                                         \nCovariance Type:            nonrobust                                         \n==============================================================================\n                 coef    std err          t      P>|t|      [0.025      0.975]\n------------------------------------------------------------------------------\nIntercept      0.1579      0.025      6.283      0.000       0.105       0.211\npyth           0.7010      0.049     14.330      0.000       0.598       0.804\n==============================================================================\nOmnibus:                        5.119   Durbin-Watson:                   1.547\nProb(Omnibus):                  0.077   Jarque-Bera (JB):                3.206\nSkew:                          -0.955   Prob(JB):                        0.201\nKurtosis:                       3.446   Cond. No.                         7.81\n==============================================================================\n\nNotes:\n[1] Standard Errors assume that the covariance matrix of the errors is correctly specified.\n\"\"\"",
      "text/html": "<table class=\"simpletable\">\n<caption>OLS Regression Results</caption>\n<tr>\n  <th>Dep. Variable:</th>           <td>wpc</td>       <th>  R-squared:         </th> <td>   0.919</td>\n</tr>\n<tr>\n  <th>Model:</th>                   <td>OLS</td>       <th>  Adj. R-squared:    </th> <td>   0.915</td>\n</tr>\n<tr>\n  <th>Method:</th>             <td>Least Squares</td>  <th>  F-statistic:       </th> <td>   205.4</td>\n</tr>\n<tr>\n  <th>Date:</th>             <td>Tue, 26 Oct 2021</td> <th>  Prob (F-statistic):</th> <td>2.76e-11</td>\n</tr>\n<tr>\n  <th>Time:</th>                 <td>01:12:26</td>     <th>  Log-Likelihood:    </th> <td>  39.810</td>\n</tr>\n<tr>\n  <th>No. Observations:</th>      <td>    20</td>      <th>  AIC:               </th> <td>  -75.62</td>\n</tr>\n<tr>\n  <th>Df Residuals:</th>          <td>    18</td>      <th>  BIC:               </th> <td>  -73.63</td>\n</tr>\n<tr>\n  <th>Df Model:</th>              <td>     1</td>      <th>                     </th>     <td> </td>   \n</tr>\n<tr>\n  <th>Covariance Type:</th>      <td>nonrobust</td>    <th>                     </th>     <td> </td>   \n</tr>\n</table>\n<table class=\"simpletable\">\n<tr>\n      <td></td>         <th>coef</th>     <th>std err</th>      <th>t</th>      <th>P>|t|</th>  <th>[0.025</th>    <th>0.975]</th>  \n</tr>\n<tr>\n  <th>Intercept</th> <td>    0.1579</td> <td>    0.025</td> <td>    6.283</td> <td> 0.000</td> <td>    0.105</td> <td>    0.211</td>\n</tr>\n<tr>\n  <th>pyth</th>      <td>    0.7010</td> <td>    0.049</td> <td>   14.330</td> <td> 0.000</td> <td>    0.598</td> <td>    0.804</td>\n</tr>\n</table>\n<table class=\"simpletable\">\n<tr>\n  <th>Omnibus:</th>       <td> 5.119</td> <th>  Durbin-Watson:     </th> <td>   1.547</td>\n</tr>\n<tr>\n  <th>Prob(Omnibus):</th> <td> 0.077</td> <th>  Jarque-Bera (JB):  </th> <td>   3.206</td>\n</tr>\n<tr>\n  <th>Skew:</th>          <td>-0.955</td> <th>  Prob(JB):          </th> <td>   0.201</td>\n</tr>\n<tr>\n  <th>Kurtosis:</th>      <td> 3.446</td> <th>  Cond. No.          </th> <td>    7.81</td>\n</tr>\n</table><br/><br/>Notes:<br/>[1] Standard Errors assume that the covariance matrix of the errors is correctly specified."
     },
     "execution_count": 91,
     "metadata": {},
     "output_type": "execute_result"
    }
   ],
   "source": [
    "pyth_lm = smf.ols(formula = 'wpc ~ pyth', data=df).fit()\n",
    "pyth_lm.summary()"
   ],
   "metadata": {
    "collapsed": false,
    "pycharm": {
     "name": "#%%\n"
    }
   }
  },
  {
   "cell_type": "code",
   "execution_count": null,
   "outputs": [],
   "source": [],
   "metadata": {
    "collapsed": false,
    "pycharm": {
     "name": "#%%\n"
    }
   }
  }
 ],
 "metadata": {
  "kernelspec": {
   "display_name": "Python 3",
   "language": "python",
   "name": "python3"
  },
  "language_info": {
   "codemirror_mode": {
    "name": "ipython",
    "version": 2
   },
   "file_extension": ".py",
   "mimetype": "text/x-python",
   "name": "python",
   "nbconvert_exporter": "python",
   "pygments_lexer": "ipython2",
   "version": "2.7.6"
  }
 },
 "nbformat": 4,
 "nbformat_minor": 0
}