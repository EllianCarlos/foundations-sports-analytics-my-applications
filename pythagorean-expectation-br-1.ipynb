{
 "cells": [
  {
   "cell_type": "code",
   "execution_count": 73,
   "metadata": {
    "collapsed": true
   },
   "outputs": [
    {
     "data": {
      "text/plain": "True"
     },
     "execution_count": 73,
     "metadata": {},
     "output_type": "execute_result"
    }
   ],
   "source": [
    "import requests\n",
    "import os\n",
    "from dotenv import load_dotenv\n",
    "import pandas as pd\n",
    "import statsmodels.formula.api as smf\n",
    "import seaborn as sns\n",
    "\n",
    "load_dotenv()"
   ]
  },
  {
   "cell_type": "code",
   "execution_count": 74,
   "outputs": [],
   "source": [
    "API_KEY = os.getenv('API_KEY', -1)\n",
    "if API_KEY == -1:\n",
    "    raise('INVALID API KEY')\n",
    "response = requests.get('https://api.football-data.org/v2/competitions/BSA/standings', headers={\n",
    "    'X-Auth-Token': API_KEY,\n",
    "})"
   ],
   "metadata": {
    "collapsed": false,
    "pycharm": {
     "name": "#%%\n"
    }
   }
  },
  {
   "cell_type": "code",
   "execution_count": 75,
   "outputs": [],
   "source": [
    "response = response.json()"
   ],
   "metadata": {
    "collapsed": false,
    "pycharm": {
     "name": "#%%\n"
    }
   }
  },
  {
   "cell_type": "code",
   "execution_count": 76,
   "outputs": [],
   "source": [
    "table = response['standings'][0]['table']"
   ],
   "metadata": {
    "collapsed": false,
    "pycharm": {
     "name": "#%%\n"
    }
   }
  },
  {
   "cell_type": "code",
   "execution_count": 77,
   "outputs": [
    {
     "name": "stdout",
     "output_type": "stream",
     "text": [
      "The 1 team is CA Mineiro with 18 wins\n",
      "The 2 team is SE Palmeiras with 15 wins\n",
      "The 3 team is Fortaleza EC with 14 wins\n",
      "The 4 team is CR Flamengo with 14 wins\n",
      "The 5 team is RB Bragantino with 11 wins\n",
      "The 6 team is SC Internacional with 10 wins\n",
      "The 7 team is SC Corinthians Paulista with 10 wins\n",
      "The 8 team is Fluminense FC with 10 wins\n",
      "The 9 team is AC Goianiense with 9 wins\n",
      "The 10 team is América FC with 8 wins\n",
      "The 11 team is Cuiabá EC with 7 wins\n",
      "The 12 team is CA Paranaense with 10 wins\n",
      "The 13 team is São Paulo FC with 7 wins\n",
      "The 14 team is Ceará SC with 6 wins\n",
      "The 15 team is EC Bahia with 8 wins\n",
      "The 16 team is EC Juventude with 6 wins\n",
      "The 17 team is Santos FC with 6 wins\n",
      "The 18 team is SC Recife with 6 wins\n",
      "The 19 team is Grêmio FBPA with 7 wins\n",
      "The 20 team is Chapecoense AF with 1 wins\n"
     ]
    }
   ],
   "source": [
    "for placement in table:\n",
    "    print(\"The {0} team is {1} with {2} wins\".format(placement['position'], placement['team']['name'], placement['won']))"
   ],
   "metadata": {
    "collapsed": false,
    "pycharm": {
     "name": "#%%\n"
    }
   }
  },
  {
   "cell_type": "code",
   "execution_count": 78,
   "outputs": [],
   "source": [
    "df = pd.DataFrame(table)"
   ],
   "metadata": {
    "collapsed": false,
    "pycharm": {
     "name": "#%%\n"
    }
   }
  },
  {
   "cell_type": "code",
   "execution_count": 79,
   "outputs": [],
   "source": [
    "df['team'] = df['team'].apply(lambda x: x['name'])"
   ],
   "metadata": {
    "collapsed": false,
    "pycharm": {
     "name": "#%%\n"
    }
   }
  },
  {
   "cell_type": "code",
   "execution_count": 80,
   "outputs": [
    {
     "data": {
      "text/plain": "['position',\n 'team',\n 'playedGames',\n 'form',\n 'won',\n 'draw',\n 'lost',\n 'points',\n 'goalsFor',\n 'goalsAgainst',\n 'goalDifference']"
     },
     "execution_count": 80,
     "metadata": {},
     "output_type": "execute_result"
    }
   ],
   "source": [
    "df.columns.tolist()"
   ],
   "metadata": {
    "collapsed": false,
    "pycharm": {
     "name": "#%%\n"
    }
   }
  },
  {
   "cell_type": "code",
   "execution_count": 81,
   "outputs": [],
   "source": [
    "df['wpc'] = df['won']/df['playedGames']\n",
    "df['pyth'] = df['goalsFor']**2/(df['goalsFor']**2 + df['goalsAgainst']**2)"
   ],
   "metadata": {
    "collapsed": false,
    "pycharm": {
     "name": "#%%\n"
    }
   }
  },
  {
   "cell_type": "code",
   "execution_count": 82,
   "outputs": [
    {
     "data": {
      "text/plain": "    position            team  playedGames  form  won  draw  lost  points  \\\n15        16    EC Juventude           28  None    6    11    11      29   \n16        17       Santos FC           27  None    6    11    10      29   \n17        18       SC Recife           28  None    6     9    13      27   \n18        19     Grêmio FBPA           26  None    7     5    14      26   \n19        20  Chapecoense AF           28  None    1    10    17      13   \n\n    goalsFor  goalsAgainst  goalDifference       wpc      pyth  \n15        27            36              -9  0.214286  0.360000  \n16        23            34             -11  0.222222  0.313947  \n17        15            24              -9  0.214286  0.280899  \n18        23            32              -9  0.269231  0.340631  \n19        24            49             -25  0.035714  0.193483  ",
      "text/html": "<div>\n<style scoped>\n    .dataframe tbody tr th:only-of-type {\n        vertical-align: middle;\n    }\n\n    .dataframe tbody tr th {\n        vertical-align: top;\n    }\n\n    .dataframe thead th {\n        text-align: right;\n    }\n</style>\n<table border=\"1\" class=\"dataframe\">\n  <thead>\n    <tr style=\"text-align: right;\">\n      <th></th>\n      <th>position</th>\n      <th>team</th>\n      <th>playedGames</th>\n      <th>form</th>\n      <th>won</th>\n      <th>draw</th>\n      <th>lost</th>\n      <th>points</th>\n      <th>goalsFor</th>\n      <th>goalsAgainst</th>\n      <th>goalDifference</th>\n      <th>wpc</th>\n      <th>pyth</th>\n    </tr>\n  </thead>\n  <tbody>\n    <tr>\n      <th>15</th>\n      <td>16</td>\n      <td>EC Juventude</td>\n      <td>28</td>\n      <td>None</td>\n      <td>6</td>\n      <td>11</td>\n      <td>11</td>\n      <td>29</td>\n      <td>27</td>\n      <td>36</td>\n      <td>-9</td>\n      <td>0.214286</td>\n      <td>0.360000</td>\n    </tr>\n    <tr>\n      <th>16</th>\n      <td>17</td>\n      <td>Santos FC</td>\n      <td>27</td>\n      <td>None</td>\n      <td>6</td>\n      <td>11</td>\n      <td>10</td>\n      <td>29</td>\n      <td>23</td>\n      <td>34</td>\n      <td>-11</td>\n      <td>0.222222</td>\n      <td>0.313947</td>\n    </tr>\n    <tr>\n      <th>17</th>\n      <td>18</td>\n      <td>SC Recife</td>\n      <td>28</td>\n      <td>None</td>\n      <td>6</td>\n      <td>9</td>\n      <td>13</td>\n      <td>27</td>\n      <td>15</td>\n      <td>24</td>\n      <td>-9</td>\n      <td>0.214286</td>\n      <td>0.280899</td>\n    </tr>\n    <tr>\n      <th>18</th>\n      <td>19</td>\n      <td>Grêmio FBPA</td>\n      <td>26</td>\n      <td>None</td>\n      <td>7</td>\n      <td>5</td>\n      <td>14</td>\n      <td>26</td>\n      <td>23</td>\n      <td>32</td>\n      <td>-9</td>\n      <td>0.269231</td>\n      <td>0.340631</td>\n    </tr>\n    <tr>\n      <th>19</th>\n      <td>20</td>\n      <td>Chapecoense AF</td>\n      <td>28</td>\n      <td>None</td>\n      <td>1</td>\n      <td>10</td>\n      <td>17</td>\n      <td>13</td>\n      <td>24</td>\n      <td>49</td>\n      <td>-25</td>\n      <td>0.035714</td>\n      <td>0.193483</td>\n    </tr>\n  </tbody>\n</table>\n</div>"
     },
     "execution_count": 82,
     "metadata": {},
     "output_type": "execute_result"
    }
   ],
   "source": [
    "df.tail()"
   ],
   "metadata": {
    "collapsed": false,
    "pycharm": {
     "name": "#%%\n"
    }
   }
  },
  {
   "cell_type": "code",
   "execution_count": 83,
   "outputs": [
    {
     "data": {
      "text/plain": "<seaborn.axisgrid.FacetGrid at 0x1fbbb1256a0>"
     },
     "execution_count": 83,
     "metadata": {},
     "output_type": "execute_result"
    },
    {
     "data": {
      "text/plain": "<Figure size 360x360 with 1 Axes>",
      "image/png": "[encoded data removed]"
     },
     "metadata": {
      "needs_background": "light"
     },
     "output_type": "display_data"
    }
   ],
   "source": [
    "sns.relplot(x=\"pyth\", y=\"wpc\", data =df)"
   ],
   "metadata": {
    "collapsed": false,
    "pycharm": {
     "name": "#%%\n"
    }
   }
  },
  {
   "cell_type": "code",
   "execution_count": 85,
   "outputs": [
    {
     "data": {
      "text/plain": "<class 'statsmodels.iolib.summary.Summary'>\n\"\"\"\n                            OLS Regression Results                            \n==============================================================================\nDep. Variable:                    wpc   R-squared:                       0.850\nModel:                            OLS   Adj. R-squared:                  0.842\nMethod:                 Least Squares   F-statistic:                     102.2\nDate:                Tue, 26 Oct 2021   Prob (F-statistic):           7.53e-09\nTime:                        01:05:24   Log-Likelihood:                 29.686\nNo. Observations:                  20   AIC:                            -55.37\nDf Residuals:                      18   BIC:                            -53.38\nDf Model:                           1                                         \nCovariance Type:            nonrobust                                         \n==============================================================================\n                 coef    std err          t      P>|t|      [0.025      0.975]\n------------------------------------------------------------------------------\nIntercept     -0.0657      0.042     -1.576      0.133      -0.153       0.022\npyth           0.8205      0.081     10.111      0.000       0.650       0.991\n==============================================================================\nOmnibus:                        2.709   Durbin-Watson:                   1.419\nProb(Omnibus):                  0.258   Jarque-Bera (JB):                1.209\nSkew:                           0.122   Prob(JB):                        0.546\nKurtosis:                       1.820   Cond. No.                         7.81\n==============================================================================\n\nNotes:\n[1] Standard Errors assume that the covariance matrix of the errors is correctly specified.\n\"\"\"",
      "text/html": "<table class=\"simpletable\">\n<caption>OLS Regression Results</caption>\n<tr>\n  <th>Dep. Variable:</th>           <td>wpc</td>       <th>  R-squared:         </th> <td>   0.850</td>\n</tr>\n<tr>\n  <th>Model:</th>                   <td>OLS</td>       <th>  Adj. R-squared:    </th> <td>   0.842</td>\n</tr>\n<tr>\n  <th>Method:</th>             <td>Least Squares</td>  <th>  F-statistic:       </th> <td>   102.2</td>\n</tr>\n<tr>\n  <th>Date:</th>             <td>Tue, 26 Oct 2021</td> <th>  Prob (F-statistic):</th> <td>7.53e-09</td>\n</tr>\n<tr>\n  <th>Time:</th>                 <td>01:05:24</td>     <th>  Log-Likelihood:    </th> <td>  29.686</td>\n</tr>\n<tr>\n  <th>No. Observations:</th>      <td>    20</td>      <th>  AIC:               </th> <td>  -55.37</td>\n</tr>\n<tr>\n  <th>Df Residuals:</th>          <td>    18</td>      <th>  BIC:               </th> <td>  -53.38</td>\n</tr>\n<tr>\n  <th>Df Model:</th>              <td>     1</td>      <th>                     </th>     <td> </td>   \n</tr>\n<tr>\n  <th>Covariance Type:</th>      <td>nonrobust</td>    <th>                     </th>     <td> </td>   \n</tr>\n</table>\n<table class=\"simpletable\">\n<tr>\n      <td></td>         <th>coef</th>     <th>std err</th>      <th>t</th>      <th>P>|t|</th>  <th>[0.025</th>    <th>0.975]</th>  \n</tr>\n<tr>\n  <th>Intercept</th> <td>   -0.0657</td> <td>    0.042</td> <td>   -1.576</td> <td> 0.133</td> <td>   -0.153</td> <td>    0.022</td>\n</tr>\n<tr>\n  <th>pyth</th>      <td>    0.8205</td> <td>    0.081</td> <td>   10.111</td> <td> 0.000</td> <td>    0.650</td> <td>    0.991</td>\n</tr>\n</table>\n<table class=\"simpletable\">\n<tr>\n  <th>Omnibus:</th>       <td> 2.709</td> <th>  Durbin-Watson:     </th> <td>   1.419</td>\n</tr>\n<tr>\n  <th>Prob(Omnibus):</th> <td> 0.258</td> <th>  Jarque-Bera (JB):  </th> <td>   1.209</td>\n</tr>\n<tr>\n  <th>Skew:</th>          <td> 0.122</td> <th>  Prob(JB):          </th> <td>   0.546</td>\n</tr>\n<tr>\n  <th>Kurtosis:</th>      <td> 1.820</td> <th>  Cond. No.          </th> <td>    7.81</td>\n</tr>\n</table><br/><br/>Notes:<br/>[1] Standard Errors assume that the covariance matrix of the errors is correctly specified."
     },
     "execution_count": 85,
     "metadata": {},
     "output_type": "execute_result"
    }
   ],
   "source": [
    "pyth_lm = smf.ols(formula = 'wpc ~ pyth', data=df).fit()\n",
    "pyth_lm.summary()"
   ],
   "metadata": {
    "collapsed": false,
    "pycharm": {
     "name": "#%%\n"
    }
   }
  },
  {
   "cell_type": "code",
   "execution_count": null,
   "outputs": [],
   "source": [],
   "metadata": {
    "collapsed": false,
    "pycharm": {
     "name": "#%%\n"
    }
   }
  }
 ],
 "metadata": {
  "kernelspec": {
   "display_name": "Python 3",
   "language": "python",
   "name": "python3"
  },
  "language_info": {
   "codemirror_mode": {
    "name": "ipython",
    "version": 2
   },
   "file_extension": ".py",
   "mimetype": "text/x-python",
   "name": "python",
   "nbconvert_exporter": "python",
   "pygments_lexer": "ipython2",
   "version": "2.7.6"
  }
 },
 "nbformat": 4,
 "nbformat_minor": 0
}